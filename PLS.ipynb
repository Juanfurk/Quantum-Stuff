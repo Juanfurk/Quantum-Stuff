{
 "cells": [
  {
   "cell_type": "markdown",
   "metadata": {},
   "source": [
    "# Fast state tomography with optimal error bounds\n",
    "\n",
    "Here we are programming the tomographic method described on the paper \"Fast state tomography with optimal error bounds\". It consists on a \"Projected Least Squared\" (PLS) estimator approach on the method, where a LS estimator is computed and the projected into the real possible states (as usually LS estimators tend to be non-pyshical)."
   ]
  },
  {
   "cell_type": "code",
   "execution_count": 2,
   "metadata": {},
   "outputs": [],
   "source": [
    "import numpy as np\n",
    "import qibo\n",
    "import matplotlib.pyplot as plt #(pip install --force pillow) in case it does not work\n",
    "from itertools import product\n",
    "from qibo.models import QFT\n",
    "from qibo.models import Circuit\n",
    "from qibo import gates\n",
    "import itertools\n",
    "from qibo.quantum_info import fidelity\n",
    "from qibo.quantum_info import random_unitary"
   ]
  },
  {
   "cell_type": "markdown",
   "metadata": {},
   "source": [
    "## Pauli measurements"
   ]
  },
  {
   "cell_type": "markdown",
   "metadata": {},
   "source": [
    "Explicitely, we are performing\n",
    "$$\n",
    "\\rho_{LS} = \\frac{1}{3^n} \\sum_{s,x} f_{s,x} \\bigotimes_{k=1}^{n}\\left( 3 \\ket{(s_k,x_k)} \\bra{(s_k,x_k)} - 1 \\right),\n",
    "$$\n",
    "\n",
    "where $\\ket{(s_k,x_k)}$ is nothing more than one of the possible state outcomes of a qubit, that is $\\{ \\ket{0}, \\ket{1}, \\ket{+}, \\ket{-}, \\ket{y+}, \\ket{y-}\\}$, writen in the computational basis to perform the computations. Also, $f_{s,x}$ is the frequancies outcomes, which usually is computing by running the quantum circuit multiple $N$ times and counting the number of outcomes $n_{s,x}$, that is $f_{s,x} = \\frac{n_{s,x}}{N}$. However, we are performing $f_{s,x} = \\bra{(s,x)} \\rho \\ket{(s,x)}$, where $\\ket{(s,x)} = \\bigotimes_{k}^n \\ket{(s_k,x_k)}$. We are doing this because this way we are geting better results, as we know the final state $\\rho$ analitically. In practice, and for a big a mount of qubits, we should run the quantum hardware $O(6^n N)$. We would like to compute $f_{s,x}$ with the algorithm of \"Learning to predict...\", so we only need to run the quantum circuit to compute $h(\\rho, O)$. This way, we would have found an \"easy\" and \"not-as-coomputationally-hard-as-other-techniques\" algorithm to recontruct an approximation to the quantum state.  "
   ]
  },
  {
   "cell_type": "code",
   "execution_count": 3,
   "metadata": {},
   "outputs": [],
   "source": [
    "def random_initial_state(nqubits:int):\n",
    "    \"\"\"Creates an initial random state.\n",
    "    \n",
    "    Given the 6 possible states vector of the Pauli\n",
    "    matrices (X, Y, Z), it returns an initial state\n",
    "    which is the random tensor product of all 6 eigensates,\n",
    "    as well as a list that contains all those initials\n",
    "    eignestates.\n",
    "\n",
    "    Attributes:\n",
    "        nqubits(int): Number of qubits of the quantum \n",
    "                      system  \n",
    "    \"\"\"\n",
    "    vec_0 = np.array([1,0])\n",
    "    vec_1 = np.array([0,1])\n",
    "    vec_plus = np.array([1,1])/np.sqrt(2)\n",
    "    vec_minus = np.array([1,-1])/np.sqrt(2)\n",
    "    vec_yplus = np.array([1,1j])/np.sqrt(2)\n",
    "    vec_yminus = np.array([1,-1j])/np.sqrt(2)\n",
    "    initial_list = np.array([vec_0, vec_1, vec_plus, vec_minus, vec_yplus, vec_yminus])\n",
    "    s_in_lista = []\n",
    "    index = np.random.choice(len(initial_list))\n",
    "    psi_in = initial_list[index]\n",
    "    s_in_lista.append(psi_in)\n",
    "    for _ in range(nqubits-1):\n",
    "        index = np.random.choice(len(initial_list))\n",
    "        s_in = initial_list[index]\n",
    "        s_in_lista.append(s_in)\n",
    "        psi_in = np.kron(psi_in, s_in)\n",
    "    \n",
    "    return psi_in, s_in_lista \n",
    "\n",
    "def function(x, rho_LS, eigenvalues):\n",
    "    suma = 0\n",
    "    for lam in eigenvalues:\n",
    "        suma += np.abs(lam - x)\n",
    "    return 2 + np.trace(rho_LS) + suma\n",
    "\n",
    "def bisection(a,b,tol, rho_LS, eigenvalues):\n",
    "    xl = a\n",
    "    xr = b\n",
    "    while (np.abs(xl-xr)>= tol):\n",
    "        c = (xl+xr)/2.0\n",
    "        prod = function(xl,rho_LS, eigenvalues)*function(c,rho_LS, eigenvalues)\n",
    "        if prod >tol:\n",
    "            xl = c\n",
    "    return c\n",
    "\n",
    "def Pauli_basis(nqubits):\n",
    "    vec_0 = np.array([1,0])\n",
    "    vec_1 = np.array([0,1])\n",
    "    vec_plus = np.array([1,1])/np.sqrt(2)\n",
    "    vec_minus = np.array([1,-1])/np.sqrt(2)\n",
    "    vec_yplus = np.array([1,1j])/np.sqrt(2)\n",
    "    vec_yminus = np.array([1,-1j])/np.sqrt(2)\n",
    "    initial_list = np.array([vec_0, vec_1, vec_plus, vec_minus, vec_yplus, vec_yminus])\n",
    "\n",
    "    vector_list = []\n",
    "    vector_basis = product(initial_list, repeat=nqubits)\n",
    "    for vector in vector_basis:\n",
    "\n",
    "        vector_list.append(vector)\n",
    "\n",
    "    vector_list = np.array(vector_list)\n",
    "\n",
    "\n",
    "    states = []\n",
    "    for i in range(len(vector_list)):\n",
    "        kron = np.kron(vector_list[i,0], vector_list[i,1])\n",
    "        for n in range(2,nqubits):\n",
    "            kron = np.kron(kron, vector_list[i,n])\n",
    "        states.append(kron)\n",
    "    rho_states = []\n",
    "    for i in range(len(states)):\n",
    "        rho = np.kron(states[i], np.transpose(np.conjugate([states[i]])))\n",
    "        rho_states.append(rho)\n",
    "\n",
    "    return vector_list, rho_states\n",
    "\"\"\"\n",
    "def rho_LS(f,vector_list,nqubits):\n",
    "    suma = 0\n",
    "    for i in range(len(f)):\n",
    "        kron_0 =  3*np.kron(vector_list[i,0], np.transpose(np.conjugate([vector_list[i,0]]))) - np.eye(2)\n",
    "        kron_1 =  3*np.kron(vector_list[i,1], np.transpose(np.conjugate([vector_list[i,1]]))) - np.eye(2)\n",
    "        kron = np.kron(kron_0, kron_1)\n",
    "        for j in range(2,len(vector_list[i])):\n",
    "            next = 3*np.kron(vector_list[i,j], np.transpose(np.conjugate([vector_list[i,j]]))) - np.eye(2)\n",
    "            kron = np.kron(kron, next)\n",
    "        suma += f[i]*kron\n",
    "\n",
    "    rho_LS = 1/(3**nqubits)*suma\n",
    "\n",
    "    return rho_LS\n",
    "\"\"\"\n",
    "\n",
    "\n",
    "def pseudorandom_circuit(nqubits, density_matrix=None ):\n",
    "    c = Circuit(nqubits, density_matrix=density_matrix)\n",
    "    for i in range(nqubits):\n",
    "        haar_U = random_unitary(2, measure='haar')\n",
    "        c.add(gates.Unitary(haar_U, i))\n",
    "    for i in range(nqubits-1):\n",
    "        c.add(gates.CNOT(i,i+1))\n",
    "    for i in range(nqubits):\n",
    "        haar_U = random_unitary(2, measure='haar')\n",
    "        c.add(gates.Unitary(haar_U, i))\n",
    "    return c"
   ]
  },
  {
   "cell_type": "code",
   "execution_count": 5,
   "metadata": {},
   "outputs": [
    {
     "name": "stdout",
     "output_type": "stream",
     "text": [
      "(0.00356+0j)|000000><000000| + (-0.00013-0.00054j)|000000><000001| + (0.00139+0.0056j)|000000><000010| + (0.00242+0.00453j)|000000><000011| + (-0.00383+0.00851j)|000000><000100| + (0.00299-0.00261j)|000000><000101| + (0.00277+0.00496j)|000000><000110| + (0.00159+0.00294j)|000000><000111| + (-0.00673+0.00333j)|000000><001000| + (0.00353+9e-05j)|000000><001001| + (-0.00174+0.00659j)|000000><001010| + (-0.00076+0.00443j)|000000><001011| + (0.00086-0.00639j)|000000><001100| + (-0.00088+0.00138j)|000000><001101| + (0.00297+0.00023j)|000000><001110| + (0.00338-0.00063j)|000000><001111| + (-0.00832-0.00849j)|000000><010000| + (0.00118+0.00373j)|000000><010001| + (-0.00146-0.00266j)|000000><010010| + (-0.00069-0.00346j)|000000><010011| + ...\n",
      "0.9999999999999988\n"
     ]
    }
   ],
   "source": [
    "nqubits=2\n",
    "psi_in, _ = random_initial_state(nqubits)\n",
    "#c = Circuit(nqubits, density_matrix=True)\n",
    "#c.add(gates.H(0))\n",
    "#c.add(gates.CNOT(0,1))\n",
    "c = pseudorandom_circuit(nqubits, density_matrix=True)\n",
    "c.add(gates.M(*range(nqubits)))\n",
    "final_state = c(np.kron(psi_in, np.transpose(np.conjugate([psi_in]))))\n",
    "print(final_state)\n",
    "\n",
    "vector_list, rho_states = Pauli_basis(nqubits)\n",
    "#computes pseudoprobabiliy vector f\n",
    "f = []\n",
    "for kron in rho_states:\n",
    "    f.append(np.trace(kron@final_state))\n",
    "\n",
    "suma = 0\n",
    "for i in range(len(f)):\n",
    "    kron_0 =  3*np.kron(vector_list[i,0], np.transpose(np.conjugate([vector_list[i,0]]))) - np.eye(2)\n",
    "    kron_1 =  3*np.kron(vector_list[i,1], np.transpose(np.conjugate([vector_list[i,1]]))) - np.eye(2)\n",
    "    kron = np.kron(kron_0, kron_1)\n",
    "    for j in range(2,len(vector_list[i])):\n",
    "        next = 3*np.kron(vector_list[i,j], np.transpose(np.conjugate([vector_list[i,j]]))) - np.eye(2)\n",
    "        kron = np.kron(kron, next)\n",
    "    suma += f[i]*kron\n",
    "\n",
    "rho_LS = 1/(3**nqubits)*suma\n",
    "        \n",
    "        \n",
    "print(fidelity(np.array(final_state), rho_LS))"
   ]
  },
  {
   "cell_type": "markdown",
   "metadata": {},
   "source": [
    "Now that we have got a method to compute $\\rho_{LS}$ by the \"Least Squared\" estimator, we have to project the outcome into the realm of possible real quantum states, as $\\rho_{LS}$ tends to be non-physicial (negative eigenvalues). To this end, we perform\n",
    "$$\n",
    "\\rho_{PLS} = U diag([\\lambda - x_0 1]^+)U^{\\dagger},\n",
    "$$\n",
    "where $\\lambda$ and $U$ are the eigenvalues and eigenstates respectively, $1$ is a vector containing all components of one, and $[y]^+ = \\text{max}(y,0)$. Also, $x_0$ is chosen to ensure $\\text{tr}(\\rho_{PLS} = 1)$, and may be determined by finding the roots of the function $f(x) = 2 + \\text{tr}(\\rho_{LS}) - dx + \\sum_{i=1}^{d}|\\lambda_i - x| $."
   ]
  },
  {
   "cell_type": "code",
   "execution_count": 5,
   "metadata": {},
   "outputs": [
    {
     "name": "stdout",
     "output_type": "stream",
     "text": [
      "[ 1.00000000e+00+8.46498265e-18j -9.32556939e-16+5.94258502e-18j\n",
      " -6.02120434e-16-6.03122398e-18j  5.53977335e-16+1.21530646e-17j\n",
      "  4.76012206e-16-1.37717950e-19j -4.38184044e-16-2.90278233e-18j\n",
      " -3.67415408e-16-3.47731737e-18j  3.40291243e-16+1.13840197e-17j\n",
      " -3.33750794e-16-2.40448696e-18j -2.71417142e-16+4.16420994e-18j\n",
      " -2.40396000e-16-3.08803790e-18j  2.50384396e-16+3.84016780e-18j\n",
      "  2.35378386e-16-3.10612453e-18j -1.88533605e-16-3.64406917e-18j\n",
      " -1.73223211e-16+2.42287061e-18j -1.44622884e-16-3.23602027e-18j\n",
      "  1.79443257e-16-1.64438552e-18j  1.61626122e-16-4.39829388e-18j\n",
      "  1.45448324e-16+2.19574007e-18j  1.33532462e-16+1.04607692e-17j\n",
      " -1.20102371e-16-8.33402332e-18j -9.40249192e-17+5.24591253e-18j\n",
      " -8.40396416e-17-2.00612816e-18j -6.39344369e-17+5.76083419e-18j\n",
      " -3.84155344e-17-1.20955281e-17j -3.00009935e-17-1.63417837e-18j\n",
      "  8.26574092e-17+1.20853243e-18j  6.54124101e-17+1.45661847e-17j\n",
      "  6.17964766e-17+3.50540638e-18j  3.25430818e-17-2.42985853e-18j\n",
      "  1.70619933e-17+8.98970793e-18j  1.44875449e-18-6.11372395e-19j]\n"
     ]
    }
   ],
   "source": [
    "eigenvalues, eigenvectors = np.linalg.eig(rho_LS)\n",
    "\n",
    "diagonal = np.diag(eigenvalues)\n",
    "print(eigenvalues)"
   ]
  },
  {
   "cell_type": "code",
   "execution_count": 6,
   "metadata": {},
   "outputs": [
    {
     "name": "stdout",
     "output_type": "stream",
     "text": [
      "39.99999999992724\n"
     ]
    },
    {
     "name": "stderr",
     "output_type": "stream",
     "text": [
      "c:\\Users\\PW0732YT\\anaconda3\\envs\\VirtualEnv_qibo\\lib\\site-packages\\matplotlib\\cbook.py:1699: ComplexWarning: Casting complex values to real discards the imaginary part\n",
      "  return math.isfinite(val)\n",
      "c:\\Users\\PW0732YT\\anaconda3\\envs\\VirtualEnv_qibo\\lib\\site-packages\\matplotlib\\cbook.py:1345: ComplexWarning: Casting complex values to real discards the imaginary part\n",
      "  return np.asarray(x, float)\n"
     ]
    },
    {
     "data": {
      "image/png": "[encoded data removed]",
      "text/plain": [
       "<Figure size 432x288 with 1 Axes>"
      ]
     },
     "metadata": {
      "needs_background": "light"
     },
     "output_type": "display_data"
    }
   ],
   "source": [
    "from scipy.optimize import fsolve\n",
    "x = np.linspace(-10,10,1000)\n",
    "\n",
    "plt.plot(x, function(x, rho_LS, eigenvalues))\n",
    "\n",
    "x_0 = bisection(-40,40,1e-10, rho_LS, eigenvalues)\n",
    "print(x_0)\n",
    "\n",
    "#root = fsolve(function, x0=0, args=(rho_LS,eigenvalues))"
   ]
  },
  {
   "cell_type": "code",
   "execution_count": 6,
   "metadata": {},
   "outputs": [
    {
     "ename": "NameError",
     "evalue": "name 'eigenvectors' is not defined",
     "output_type": "error",
     "traceback": [
      "\u001b[1;31m---------------------------------------------------------------------------\u001b[0m",
      "\u001b[1;31mNameError\u001b[0m                                 Traceback (most recent call last)",
      "Cell \u001b[1;32mIn[6], line 1\u001b[0m\n\u001b[1;32m----> 1\u001b[0m rho_PLS \u001b[38;5;241m=\u001b[39m \u001b[43meigenvectors\u001b[49m\u001b[38;5;129m@np\u001b[39m\u001b[38;5;241m.\u001b[39mdiag(np\u001b[38;5;241m.\u001b[39mmaximum(eigenvalues \u001b[38;5;241m-\u001b[39m \u001b[38;5;241m0\u001b[39m\u001b[38;5;241m*\u001b[39mnp\u001b[38;5;241m.\u001b[39mones(\u001b[38;5;241m2\u001b[39m\u001b[38;5;241m*\u001b[39m\u001b[38;5;241m*\u001b[39mnqubits),\u001b[38;5;241m0\u001b[39m))\u001b[38;5;129m@np\u001b[39m\u001b[38;5;241m.\u001b[39mmatrix(eigenvectors)\u001b[38;5;241m.\u001b[39mH\n",
      "\u001b[1;31mNameError\u001b[0m: name 'eigenvectors' is not defined"
     ]
    }
   ],
   "source": [
    "rho_PLS = eigenvectors@np.diag(np.maximum(eigenvalues - 0*np.ones(2**nqubits),0))@np.matrix(eigenvectors).H"
   ]
  },
  {
   "cell_type": "markdown",
   "metadata": {},
   "source": [
    "However, we usually do not find $x_0$ such that $f(x_0) = 0$. Thus, we can take $x_0 = 0$ to retive the previous value. So, in that case, $\\rho_{LS} = \\rho_{PLS}$."
   ]
  },
  {
   "cell_type": "code",
   "execution_count": 4,
   "metadata": {},
   "outputs": [
    {
     "name": "stderr",
     "output_type": "stream",
     "text": [
      "[Qibo 0.1.12.dev0|INFO|2024-03-19 16:22:24]: Using qibojit (numba) backend on /CPU:0\n"
     ]
    },
    {
     "name": "stdout",
     "output_type": "stream",
     "text": [
      "(0.25962+0j)|00><00| + (-0.29319+0.24884j)|00><01| + (0.05314-0.0389j)|00><10| + (0.19939-0.01556j)|00><11| + (-0.29319-0.24884j)|01><00| + (0.56961+0j)|01><01| + (-0.0973-0.00701j)|01><10| + (-0.24008-0.17354j)|01><11| + (0.05314+0.0389j)|10><00| + (-0.0973+0.00701j)|10><01| + (0.01671+0j)|10><10| + (0.04314+0.02669j)|10><11| + (0.19939+0.01556j)|11><00| + (-0.24008+0.17354j)|11><01| + (0.04314-0.02669j)|11><10| + (0.15406-0j)|11><11|\n",
      "(0.0179-0j)|000><000| + (0.00298-0.00817j)|000><001| + (0.05682+0.01446j)|000><010| + (-0.00245+0.0114j)|000><011| + (-0.09219+0.02705j)|000><100| + (0.00514+0.00339j)|000><101| + (0.02212+0.06055j)|000><110| + (-0.01325+0.01818j)|000><111| + (0.00298+0.00817j)|001><000| + (0.00422+0j)|001><001| + (0.00287+0.02833j)|001><010| + (-0.00561+0.00078j)|001><011| + (-0.0277-0.03755j)|001><100| + (-0.00069+0.00291j)|001><101| + (-0.02394+0.02018j)|001><110| + (-0.0105-0.00302j)|001><111| + (0.05682-0.01446j)|010><000| + (0.00287-0.02833j)|010><001| + (0.19206-0j)|010><010| + (0.00142+0.03816j)|010><011| + ...\n",
      "(0.00125+0j)|0000><0000| + (0.00819-0.0024j)|0000><0001| + (0.00511+0.00283j)|0000><0010| + (0.02178+0.00965j)|0000><0011| + (-0.01037-0.00969j)|0000><0100| + (0.00873+0.00102j)|0000><0101| + (0.00017+0.00565j)|0000><0110| + (-0.0045+0.00157j)|0000><0111| + (0.00128-0.00307j)|0000><1000| + (-0.00227+0.00132j)|0000><1001| + (-0.00214-0.00121j)|0000><1010| + (-0.00473-0.00696j)|0000><1011| + (-0.00952+0.00131j)|0000><1100| + (0.00238-0.00518j)|0000><1101| + (0.00271+0.0009j)|0000><1110| + (-0.00286-0.00219j)|0000><1111| + (0.00819+0.0024j)|0001><0000| + (0.05829+0j)|0001><0001| + (0.02805+0.02832j)|0001><0010| + (0.12418+0.10506j)|0001><0011| + ...\n",
      "(0.03916+0j)|00000><00000| + (0.01971-0.02823j)|00000><00001| + (-0.02524-0.00476j)|00000><00010| + (0.00628-0.04387j)|00000><00011| + (0.01319+0.01182j)|00000><00100| + (0.00335-0.00728j)|00000><00101| + (-0.00083-0.0145j)|00000><00110| + (0.01412-0.01802j)|00000><00111| + (-0.04147-0.01913j)|00000><01000| + (-0.03179+0.01044j)|00000><01001| + (0.02887+0.02242j)|00000><01010| + (-0.02385+0.04227j)|00000><01011| + (-0.01802-0.00818j)|00000><01100| + (-0.01468+0.02698j)|00000><01101| + (0.00043+0.00125j)|00000><01110| + (-0.0186+0.02297j)|00000><01111| + (0.03242-0.03131j)|00000><10000| + (0.00509-0.06471j)|00000><10001| + (-0.01442+0.03155j)|00000><10010| + (-0.01803-0.04284j)|00000><10011| + ...\n",
      "(0.00576+0j)|000000><000000| + (0.01101+0.00571j)|000000><000001| + (-0.01104+0.0055j)|000000><000010| + (0.00115+0.00085j)|000000><000011| + (-0.00045-0.00623j)|000000><000100| + (0.00312-0.00302j)|000000><000101| + (0.00222+0.00588j)|000000><000110| + (0.00239+0.00352j)|000000><000111| + (-0.001+0.00373j)|000000><001000| + (0.01093+0.00355j)|000000><001001| + (-0.00772+0.00304j)|000000><001010| + (0.00604-0.00509j)|000000><001011| + (-0.00555-0.00722j)|000000><001100| + (-0.00703+0.00677j)|000000><001101| + (0.0035-0.00565j)|000000><001110| + (0.00546+0.01053j)|000000><001111| + (0.00519+0.00751j)|000000><010000| + (-0.00203+0.01826j)|000000><010001| + (-0.01429-0.01157j)|000000><010010| + (-0.00246+0.00293j)|000000><010011| + ...\n"
     ]
    }
   ],
   "source": [
    "list_nqubits= [2,3,4,5,6]\n",
    "list_fid = []\n",
    "for nqubits in list_nqubits:\n",
    "    psi_in, _ = random_initial_state(nqubits)\n",
    "    #c = Circuit(nqubits, density_matrix=True)\n",
    "    #c.add(gates.H(0))\n",
    "    #c.add(gates.CNOT(0,1))\n",
    "    c = pseudorandom_circuit(nqubits, density_matrix=True)\n",
    "    c.add(gates.M(*range(nqubits)))\n",
    "    final_state = c(np.kron(psi_in, np.transpose(np.conjugate([psi_in]))))\n",
    "    print(final_state)\n",
    "\n",
    "    vector_list, rho_states = Pauli_basis(nqubits)\n",
    "    #computes pseudoprobabiliy vector f\n",
    "    f = []\n",
    "    for kron in rho_states:\n",
    "        f.append(np.trace(kron@final_state))\n",
    "\n",
    "    suma = 0\n",
    "    for i in range(len(f)):\n",
    "        kron_0 =  3*np.kron(vector_list[i,0], np.transpose(np.conjugate([vector_list[i,0]]))) - np.eye(2)\n",
    "        kron_1 =  3*np.kron(vector_list[i,1], np.transpose(np.conjugate([vector_list[i,1]]))) - np.eye(2)\n",
    "        kron = np.kron(kron_0, kron_1)\n",
    "        for j in range(2,len(vector_list[i])):\n",
    "            next = 3*np.kron(vector_list[i,j], np.transpose(np.conjugate([vector_list[i,j]]))) - np.eye(2)\n",
    "            kron = np.kron(kron, next)\n",
    "        suma += f[i]*kron\n",
    "\n",
    "    rho_LS = 1/(3**nqubits)*suma\n",
    "    fid = fidelity(np.array(final_state), rho_LS)\n",
    "    list_fid.append(fid)"
   ]
  },
  {
   "cell_type": "code",
   "execution_count": 6,
   "metadata": {},
   "outputs": [
    {
     "data": {
      "image/png": "[encoded data removed]",
      "text/plain": [
       "<Figure size 432x288 with 1 Axes>"
      ]
     },
     "metadata": {
      "needs_background": "light"
     },
     "output_type": "display_data"
    }
   ],
   "source": [
    "plt.plot(list_nqubits,list_fid)\n",
    "plt.xlabel('Number of qubits')\n",
    "plt.ylabel('Fidelity')\n",
    "plt.yscale('log')\n",
    "plt.show()"
   ]
  },
  {
   "cell_type": "markdown",
   "metadata": {},
   "source": [
    "As we can see, the fidelity outcome does not depend on the number of qubits, whichs is interesting (remember that in the ML, the fidelity decreases with the number of qubits, as we need to incresae also the set of POVMs in order to obtain better results (good to chose better distributed POVM???)). Nevertheless, the computational time does increse (how??)."
   ]
  }
 ],
 "metadata": {
  "kernelspec": {
   "display_name": "VirtualEnv_qibo",
   "language": "python",
   "name": "python3"
  },
  "language_info": {
   "codemirror_mode": {
    "name": "ipython",
    "version": 3
   },
   "file_extension": ".py",
   "mimetype": "text/x-python",
   "name": "python",
   "nbconvert_exporter": "python",
   "pygments_lexer": "ipython3",
   "version": "3.10.9"
  }
 },
 "nbformat": 4,
 "nbformat_minor": 2
}
